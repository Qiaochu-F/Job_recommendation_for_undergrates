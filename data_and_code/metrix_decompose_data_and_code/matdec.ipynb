{
 "cells": [
  {
   "cell_type": "code",
   "execution_count": 118,
   "id": "b85d80e1",
   "metadata": {},
   "outputs": [],
   "source": [
    "import numpy as np\n",
    "import xlrd #读取excel的库\n",
    "Y=[] #先声明一个空list\n",
    "data = xlrd.open_workbook(r'C:\\Users\\93631\\Desktop\\2020Himcm\\mat\\Y.xls') #读取文件\n",
    "table = data.sheet_by_index(0) #按索引获取工作表，0就是工作表1\n",
    "for i in range(table.nrows): #table.nrows表示总行数\n",
    "    line=table.row_values(i) #读取每行数据，保存在line里面，line是list\n",
    "    Y.append(line) #将line加入到resArray中，resArray是二维list\n",
    "Y=np.array(Y) #将resArray从二维list变成数组"
   ]
  },
  {
   "cell_type": "code",
   "execution_count": 119,
   "id": "cb29396f",
   "metadata": {},
   "outputs": [],
   "source": [
    "m,u=Y.shape\n",
    "Y=Y/10"
   ]
  },
  {
   "cell_type": "code",
   "execution_count": 120,
   "id": "b93b33b2",
   "metadata": {},
   "outputs": [],
   "source": [
    "s=200\n",
    "t=300#要扩充的职业数量和用户数量"
   ]
  },
  {
   "cell_type": "code",
   "execution_count": 121,
   "id": "215be1a5",
   "metadata": {},
   "outputs": [
    {
     "data": {
      "text/plain": [
       "(231, 326)"
      ]
     },
     "execution_count": 121,
     "metadata": {},
     "output_type": "execute_result"
    }
   ],
   "source": [
    "new1=np.ones((31,t))*0\n",
    "Y_1=np.append(Y,new1,axis=1)\n",
    "Y_1=Y_1.transpose()\n",
    "np.random.shuffle(Y_1)\n",
    "Y_1=Y_1.transpose()\n",
    "new2=np.ones((s,(t+u)))*0\n",
    "Y_1=np.append(Y_1,new2,axis=0)\n",
    "np.random.shuffle(Y_1)\n",
    "Y=Y_1#把Y扩充为稀疏矩阵\n",
    "Y.shape"
   ]
  },
  {
   "cell_type": "code",
   "execution_count": 122,
   "id": "54721a5d",
   "metadata": {},
   "outputs": [
    {
     "data": {
      "text/plain": [
       "703"
      ]
     },
     "execution_count": 122,
     "metadata": {},
     "output_type": "execute_result"
    }
   ],
   "source": [
    "R=np.ones(Y.shape)*0\n",
    "k=0\n",
    "for i in range(0,Y.shape[0]):\n",
    "    for j in range(0,Y.shape[1]):\n",
    "        if Y[i][j]!=0:\n",
    "            k=k+1\n",
    "            R[i][j]=1\n",
    "R.shape\n",
    "k\n",
    "#生成0-1矩阵R，1对应有评价的位置"
   ]
  },
  {
   "cell_type": "code",
   "execution_count": 123,
   "id": "baf6fe30",
   "metadata": {},
   "outputs": [],
   "source": [
    "Y1=Y\n",
    "R1=R"
   ]
  },
  {
   "cell_type": "code",
   "execution_count": 124,
   "id": "31b4de88",
   "metadata": {
    "scrolled": true
   },
   "outputs": [],
   "source": [
    "import numpy as np\n",
    "import pandas as pd\n",
    "import matplotlib.pyplot as plt"
   ]
  },
  {
   "cell_type": "code",
   "execution_count": 126,
   "id": "01236b39",
   "metadata": {},
   "outputs": [],
   "source": [
    "#特征个数7\n",
    "n_features = 7"
   ]
  },
  {
   "cell_type": "code",
   "execution_count": 127,
   "id": "7344ec4d",
   "metadata": {},
   "outputs": [],
   "source": [
    "def serialize(X, theta):\n",
    "    return np.concatenate((X.ravel(), theta.ravel()))\n",
    "\n",
    "def deserialize(params, n_job, n_user, n_features):\n",
    "    return params[:n_job * n_features].reshape(n_job, n_features), \\\n",
    "           params[n_job * n_features:].reshape(n_user, n_features)\n",
    "#代价函数\n",
    "def cost(params, Y, R, n_features):\n",
    "    n_job, n_user = Y.shape\n",
    "    X, theta = deserialize(params, n_job, n_user, n_features)\n",
    "    #注意这里只需要计算R=1的\n",
    "    inner = np.multiply(X @ theta.T - Y, R)\n",
    "    return np.power(inner, 2).sum() / 2\n",
    "#梯度\n",
    "def gradient(params, Y, R, n_features):\n",
    "    n_job, n_user = Y.shape\n",
    "    X, theta = deserialize(params, n_job, n_user, n_features)\n",
    "    inner = np.multiply(X @ theta.T - Y, R)  # (231，326)\n",
    "    X_grad = inner @ theta  #（231， 7）\n",
    "    theta_grad = inner.T @ X  #（326，7）\n",
    "    \n",
    "    return serialize(X_grad, theta_grad)\n",
    "#代价函数正规项\n",
    "def regularized_cost(params, Y, R, n_features, lam=1):\n",
    "    reg = np.power(params, 2).sum() * (lam / 2)\n",
    "    return cost(params, Y, R, n_features) + reg\n",
    "#梯度函数正规项\n",
    "def regularized_gradient(params, Y, R, n_features, lam=1):\n",
    "    grad = gradient(params, Y, R, n_features)\n",
    "    reg = lam * params\n",
    "    \n",
    "    return grad + reg"
   ]
  },
  {
   "cell_type": "code",
   "execution_count": 128,
   "id": "18bcec4d",
   "metadata": {},
   "outputs": [],
   "source": [
    "#接下来给做过的或者评价过的工作打上分数（1-10分）\n",
    "ratings = np.zeros((Y1.shape[0], 1))\n",
    "ratings[0] = 7\n",
    "ratings[6] = 8\n",
    "ratings[11] = 3\n",
    "ratings[53] = 7\n",
    "ratings[110] = 5\n",
    "ratings[65] = 2\n",
    "ratings[134] = 6\n",
    "ratings[97] = 6\n",
    "ratings[182] = 4\n",
    "ratings[225] = 5"
   ]
  },
  {
   "cell_type": "code",
   "execution_count": 129,
   "id": "b94d84a5",
   "metadata": {},
   "outputs": [
    {
     "data": {
      "text/plain": [
       "((231, 327), (231, 327))"
      ]
     },
     "execution_count": 129,
     "metadata": {},
     "output_type": "execute_result"
    }
   ],
   "source": [
    "#将新的评分添加到原来用户的评分集中\n",
    "Y1 = np.append(Y1, ratings, axis=1)  \n",
    "R1 = np.append(R1, ratings != 0, axis=1)\n",
    "Y1.shape, R1.shape"
   ]
  },
  {
   "cell_type": "code",
   "execution_count": 130,
   "id": "a5f09892",
   "metadata": {},
   "outputs": [
    {
     "data": {
      "text/plain": [
       "2.7749329077039006e-18"
      ]
     },
     "execution_count": 130,
     "metadata": {},
     "output_type": "execute_result"
    }
   ],
   "source": [
    "#初始化x和theta为较小随机数，同时进行标准化\n",
    "n_features = 7\n",
    "n_job, n_user = Y1.shape\n",
    "lr = 10 #学习率\n",
    "X = np.random.standard_normal((n_job, n_features))\n",
    "theta = np.random.standard_normal((n_user, n_features))\n",
    "#归一化\n",
    "Y1_norm = Y1 - Y1.mean()\n",
    "Y1_norm.mean()"
   ]
  },
  {
   "cell_type": "code",
   "execution_count": 131,
   "id": "5abef001",
   "metadata": {
    "scrolled": true
   },
   "outputs": [
    {
     "data": {
      "text/plain": [
       "     fun: 1738.6337674867723\n",
       "     jac: array([ 1.97589347e-06,  6.74969779e-07, -6.41581252e-06, ...,\n",
       "        1.65068137e-06,  5.51572435e-06,  1.01437688e-06])\n",
       " message: 'Converged (|f_n-f_(n-1)| ~= 0)'\n",
       "    nfev: 281\n",
       "     nit: 23\n",
       "  status: 1\n",
       " success: True\n",
       "       x: array([ 0.20966593, -0.16739969,  0.04095947, ..., -1.00921075,\n",
       "       -2.40305395,  0.0562228 ])"
      ]
     },
     "execution_count": 131,
     "metadata": {},
     "output_type": "execute_result"
    }
   ],
   "source": [
    "#模型训练\n",
    "import scipy.optimize as opt\n",
    "params = np.concatenate((np.ravel(X), np.ravel(theta)))\n",
    "res = opt.minimize(fun=regularized_cost,\n",
    "                   x0=params,\n",
    "                   args=(Y1_norm, R1, n_features, lr),\n",
    "                   method='TNC',\n",
    "                   jac=regularized_gradient)\n",
    "res"
   ]
  },
  {
   "cell_type": "code",
   "execution_count": 132,
   "id": "0158bfe6",
   "metadata": {},
   "outputs": [
    {
     "data": {
      "text/plain": [
       "((231, 7), (327, 7))"
      ]
     },
     "execution_count": 132,
     "metadata": {},
     "output_type": "execute_result"
    }
   ],
   "source": [
    "#训练后的参数\n",
    "X_trained, theta_trained = deserialize(res.x, n_job, n_user, n_features)\n",
    "X_trained.shape, theta_trained.shape"
   ]
  },
  {
   "cell_type": "code",
   "execution_count": 133,
   "id": "ae7c59ba",
   "metadata": {},
   "outputs": [],
   "source": [
    "#进行预测\n",
    "pred = X_trained @ theta_trained.T\n",
    "final_preds = pred[:, -1] + Y1.mean()"
   ]
  },
  {
   "cell_type": "code",
   "execution_count": 134,
   "id": "811897c9",
   "metadata": {},
   "outputs": [
    {
     "data": {
      "text/plain": [
       "array([ 34, 151,  30, 123, 206,  95,  57, 196,   6, 112, 135,  33,  27,\n",
       "       167, 137,  45,  11,   0,  53,  48, 160, 221,  62,  87, 155, 149,\n",
       "       204, 175, 189, 103,  96, 217,  97, 134, 230, 225, 110,  10, 182,\n",
       "        65,  91, 146, 194, 102, 121, 162, 179,  94,  46, 213, 108,  68,\n",
       "       186, 143,  22, 220, 168,  50, 136, 205, 228, 226,   4,  71, 188,\n",
       "       129, 125, 145, 216, 114,  55,  99, 124,  74,  32,  67,  18, 133,\n",
       "       111,  17,  64,  78, 159,  79, 130, 166,   7,  85, 161,  51, 227,\n",
       "       183,  98,  23, 229, 198, 172, 174, 105, 209,  77,  43, 122,  44,\n",
       "         3, 201,   2, 158, 165, 104,  69,  15, 203, 120, 202, 132, 223,\n",
       "       171, 152,  31, 128, 184,  54, 142, 219, 139, 169,  59,  28, 212,\n",
       "        89, 100,  58, 177, 193, 191, 187, 199,  24,  83,   5, 140,  47,\n",
       "       131,  73, 190, 195, 178, 208, 118,  20, 211,  35, 148, 153, 116,\n",
       "       106,  39, 150,   1, 170,  60,  49, 107, 115,  70,  21, 157,  88,\n",
       "       117, 126, 214, 176, 181, 113, 156, 197, 138,  82,  52,  66,  25,\n",
       "       200,  75,  14,  84,  93, 127, 101, 180,  80, 154, 215,  38, 141,\n",
       "        37, 163,  76,  41, 144,  72,  42,  13, 109, 222, 164,  36,  81,\n",
       "       224,  61,  40, 207,  26,  90,   9, 185, 173,   8,  63,  12, 192,\n",
       "        86,  56,  92, 119, 210,  19,  29, 147, 218,  16], dtype=int64)"
      ]
     },
     "execution_count": 134,
     "metadata": {},
     "output_type": "execute_result"
    }
   ],
   "source": [
    "idx=np.argsort(final_preds)[::-1]\n",
    "idx"
   ]
  },
  {
   "cell_type": "code",
   "execution_count": 135,
   "id": "28c49b83",
   "metadata": {},
   "outputs": [
    {
     "name": "stdout",
     "output_type": "stream",
     "text": [
      "Predicting rating 4.3 for job number 34.\n",
      "Predicting rating 4.0 for job number 151.\n",
      "Predicting rating 4.0 for job number 30.\n",
      "Predicting rating 3.8 for job number 123.\n",
      "Predicting rating 3.7 for job number 206.\n",
      "Predicting rating 3.7 for job number 95.\n",
      "Predicting rating 3.5 for job number 57.\n",
      "Predicting rating 3.5 for job number 196.\n",
      "Predicting rating 3.4 for job number 6.\n",
      "Predicting rating 3.4 for job number 112.\n"
     ]
    },
    {
     "data": {
      "text/plain": [
       "(array(['34', '151', '30', '123', '206', '95', '57', '196', '6', '112'],\n",
       "       dtype='<U32'),\n",
       " array([4.32067608, 4.02375908, 3.97817987, 3.78978267, 3.74186119,\n",
       "        3.66659724, 3.53684865, 3.47586949, 3.40347834, 3.37752623]))"
      ]
     },
     "execution_count": 135,
     "metadata": {},
     "output_type": "execute_result"
    }
   ],
   "source": [
    "job_num=[]\n",
    "score=[]\n",
    "for i in range(10):\n",
    "    print('Predicting rating %0.1f for job number %s.' %(final_preds[idx[i]],idx[i]))\n",
    "    job_num=np.append(job_num,'%d' %idx[i])\n",
    "    score=np.append(score,final_preds[idx[i]])\n",
    "job_num,score"
   ]
  },
  {
   "cell_type": "code",
   "execution_count": 136,
   "id": "a1ef39cd",
   "metadata": {},
   "outputs": [
    {
     "data": {
      "image/png": "[encoded data removed]",
      "text/plain": [
       "<Figure size 432x288 with 1 Axes>"
      ]
     },
     "metadata": {
      "needs_background": "light"
     },
     "output_type": "display_data"
    }
   ],
   "source": [
    "x_data=job_num\n",
    "y_data=score\n",
    "for i in range(0,10):\n",
    "    plt.bar(x_data[i], y_data[i],color='lightsteelblue')\n",
    "    plt.text(x_data[i], y_data[i],'%0.1f'%y_data[i])\n",
    "\n",
    "# 正确显示中文和负号\n",
    "plt.rcParams[\"font.sans-serif\"] = [\"SimHei\"]\n",
    "plt.rcParams[\"axes.unicode_minus\"] = False\n",
    "plt.title(\"工作评分\")\n",
    "plt.xlabel(\"工作编号\")\n",
    "plt.ylabel(\"分数\")\n",
    "# 显示\n",
    "plt.show()"
   ]
  },
  {
   "cell_type": "code",
   "execution_count": 114,
   "id": "38b0ac3f",
   "metadata": {},
   "outputs": [
    {
     "data": {
      "text/plain": [
       "500"
      ]
     },
     "execution_count": 114,
     "metadata": {},
     "output_type": "execute_result"
    }
   ],
   "source": [
    "k=0\n",
    "for i in range(0,Y.shape[0]):\n",
    "    for j in range(0,Y.shape[1]):\n",
    "        if Y[i][j]!=0:\n",
    "            k=k+1\n",
    "#扩充数据集\n",
    "import random as rd\n",
    "Y_2=Y\n",
    "q=0\n",
    "while q<500:\n",
    "    i=rd.randint(0,Y.shape[0]-1)\n",
    "    j=rd.randint(0,Y.shape[1]-1)\n",
    "    if Y_2[i][j]==0:\n",
    "        Y_2[i][j]=rd.randint(0,10)\n",
    "    q+=1\n",
    "q"
   ]
  },
  {
   "cell_type": "code",
   "execution_count": 115,
   "id": "ec4cb639",
   "metadata": {},
   "outputs": [
    {
     "data": {
      "text/plain": [
       "1149"
      ]
     },
     "execution_count": 115,
     "metadata": {},
     "output_type": "execute_result"
    }
   ],
   "source": [
    "k=0\n",
    "R_2=np.ones(Y_2.shape)*0\n",
    "for i in range(0,Y_2.shape[0]):\n",
    "    for j in range(0,Y_2.shape[1]):\n",
    "        if Y_2[i][j]!=0:\n",
    "            R_2[i][j]=1\n",
    "            k=k+1\n",
    "k"
   ]
  },
  {
   "cell_type": "code",
   "execution_count": 116,
   "id": "f265765b",
   "metadata": {},
   "outputs": [
    {
     "data": {
      "text/plain": [
       "((231, 327), (231, 327))"
      ]
     },
     "execution_count": 116,
     "metadata": {},
     "output_type": "execute_result"
    }
   ],
   "source": [
    "Y2=Y_2\n",
    "R2=R_2\n",
    "#接下来给做过的或者评价过的工作打上分数（1-10分）\n",
    "ratings = np.zeros((Y2.shape[0], 1))\n",
    "ratings[0] = 7\n",
    "ratings[6] = 8\n",
    "ratings[11] = 3\n",
    "ratings[53] = 7\n",
    "ratings[110] = 5\n",
    "ratings[65] = 2\n",
    "ratings[134] = 6\n",
    "ratings[97] = 6\n",
    "ratings[182] = 4\n",
    "ratings[225] = 5\n",
    "#将新的评分添加到原来用户的评分集中\n",
    "Y2 = np.append(Y2, ratings, axis=1)  \n",
    "R2 = np.append(R2, ratings != 0, axis=1)\n",
    "Y2.shape, R2.shape"
   ]
  }
 ],
 "metadata": {
  "kernelspec": {
   "display_name": "Python 3 (ipykernel)",
   "language": "python",
   "name": "python3"
  },
  "language_info": {
   "codemirror_mode": {
    "name": "ipython",
    "version": 3
   },
   "file_extension": ".py",
   "mimetype": "text/x-python",
   "name": "python",
   "nbconvert_exporter": "python",
   "pygments_lexer": "ipython3",
   "version": "3.9.7"
  }
 },
 "nbformat": 4,
 "nbformat_minor": 5
}
