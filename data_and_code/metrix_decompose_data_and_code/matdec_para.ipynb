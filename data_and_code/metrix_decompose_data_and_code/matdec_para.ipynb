{
 "cells": [
  {
   "cell_type": "code",
   "execution_count": 7,
   "id": "f08178cc",
   "metadata": {},
   "outputs": [],
   "source": [
    "import numpy as np\n",
    "import pandas as pd\n",
    "import xlrd #读取excel的库\n",
    "Y=[] #先声明一个空list\n",
    "data=pd.read_csv(r\"C:\\Users\\93631\\Desktop\\2020Himcm\\mat\\Y2.csv\",header=None)\n",
    " #必须添加header=None，否则默认把第一行数据处理成列名导致缺失\n",
    "Y=data.values.tolist()\n",
    "Y=np.array(Y)\n",
    "Y=np.delete(Y,0,axis=0)\n",
    "data=pd.read_csv(r\"C:\\Users\\93631\\Desktop\\2020Himcm\\mat\\R2.csv\",header=None)\n",
    " #必须添加header=None，否则默认把第一行数据处理成列名导致缺失\n",
    "R=data.values.tolist()\n",
    "R=np.array(R)\n",
    "R=np.delete(R,0,axis=0)\n",
    "#先导入输入过评价的表格Y，R"
   ]
  },
  {
   "cell_type": "code",
   "execution_count": 8,
   "id": "7b345da0",
   "metadata": {},
   "outputs": [],
   "source": [
    "#特征个数15\n",
    "n_features = 15\n",
    "def serialize(X, theta):\n",
    "    return np.concatenate((X.ravel(), theta.ravel()))\n",
    "\n",
    "def deserialize(params, n_job, n_user, n_features):\n",
    "    return params[:n_job * n_features].reshape(n_job, n_features), \\\n",
    "           params[n_job * n_features:].reshape(n_user, n_features)\n",
    "#代价函数\n",
    "def cost(params, Y, R, n_features):\n",
    "    n_job, n_user = Y.shape\n",
    "    X, theta = deserialize(params, n_job, n_user, n_features)\n",
    "    #注意这里只需要计算R=1的\n",
    "    inner = np.multiply(X @ theta.T - Y, R)\n",
    "    return np.power(inner, 2).sum() / 2\n",
    "#梯度\n",
    "def gradient(params, Y, R, n_features):\n",
    "    n_job, n_user = Y.shape\n",
    "    X, theta = deserialize(params, n_job, n_user, n_features)\n",
    "    inner = np.multiply(X @ theta.T - Y, R)  # (231，326)\n",
    "    X_grad = inner @ theta  #（231， 7）\n",
    "    theta_grad = inner.T @ X  #（326，7）\n",
    "    \n",
    "    return serialize(X_grad, theta_grad)\n",
    "#代价函数正规项\n",
    "def regularized_cost(params, Y, R, n_features, lam=1):\n",
    "    reg = np.power(params, 2).sum() * (lam / 2)\n",
    "    return cost(params, Y, R, n_features) + reg\n",
    "#梯度函数正规项\n",
    "def regularized_gradient(params, Y, R, n_features, lam=1):\n",
    "    grad = gradient(params, Y, R, n_features)\n",
    "    reg = lam * params\n",
    "    \n",
    "    return grad + reg"
   ]
  },
  {
   "cell_type": "code",
   "execution_count": 9,
   "id": "7416b253",
   "metadata": {},
   "outputs": [
    {
     "data": {
      "text/plain": [
       "-3.066536026818548e-17"
      ]
     },
     "execution_count": 9,
     "metadata": {},
     "output_type": "execute_result"
    }
   ],
   "source": [
    "#初始化x和theta为较小随机数，同时进行标准化\n",
    "n_features = 15\n",
    "n_job, n_user = Y.shape\n",
    "lr = 10 #学习率\n",
    "X = np.random.standard_normal((n_job, n_features))\n",
    "theta = np.random.standard_normal((n_user, n_features))\n",
    "#归一化\n",
    "Y_norm = Y - Y.mean()\n",
    "Y_norm.mean()"
   ]
  },
  {
   "cell_type": "code",
   "execution_count": 10,
   "id": "5ccb094c",
   "metadata": {},
   "outputs": [
    {
     "data": {
      "text/plain": [
       "     fun: 8373.106202618976\n",
       "     jac: array([-1.46141602e-06,  7.76769066e-07, -3.25323122e-06, ...,\n",
       "       -2.30620980e-07,  8.99436912e-07,  8.78002760e-07])\n",
       " message: 'Converged (|f_n-f_(n-1)| ~= 0)'\n",
       "    nfev: 2052\n",
       "     nit: 87\n",
       "  status: 1\n",
       " success: True\n",
       "       x: array([ 0.78653644, -0.38196758,  0.45851616, ...,  0.65812528,\n",
       "       -0.38845072, -0.46576947])"
      ]
     },
     "execution_count": 10,
     "metadata": {},
     "output_type": "execute_result"
    }
   ],
   "source": [
    "#模型训练\n",
    "import scipy.optimize as opt\n",
    "params = np.concatenate((np.ravel(X), np.ravel(theta)))\n",
    "res = opt.minimize(fun=regularized_cost,\n",
    "                   x0=params,\n",
    "                   args=(Y_norm, R, n_features, lr),\n",
    "                   method='TNC',\n",
    "                   jac=regularized_gradient)\n",
    "res"
   ]
  },
  {
   "cell_type": "code",
   "execution_count": 11,
   "id": "e009eb6b",
   "metadata": {},
   "outputs": [
    {
     "data": {
      "text/plain": [
       "((231, 15), (327, 15))"
      ]
     },
     "execution_count": 11,
     "metadata": {},
     "output_type": "execute_result"
    }
   ],
   "source": [
    "#训练后的参数\n",
    "X_trained, theta_trained = deserialize(res.x, n_job, n_user, n_features)\n",
    "X_trained.shape, theta_trained.shape"
   ]
  },
  {
   "cell_type": "code",
   "execution_count": 13,
   "id": "77d85bec",
   "metadata": {
    "scrolled": true
   },
   "outputs": [
    {
     "name": "stdout",
     "output_type": "stream",
     "text": [
      "Predicting rating 6.3 for job number 60.\n",
      "Predicting rating 5.8 for job number 207.\n",
      "Predicting rating 5.6 for job number 68.\n",
      "Predicting rating 5.5 for job number 92.\n",
      "Predicting rating 5.5 for job number 148.\n",
      "Predicting rating 5.5 for job number 54.\n",
      "Predicting rating 5.4 for job number 161.\n",
      "Predicting rating 5.2 for job number 199.\n",
      "Predicting rating 5.1 for job number 0.\n",
      "Predicting rating 5.1 for job number 151.\n"
     ]
    },
    {
     "data": {
      "image/png": "[encoded data removed]",
      "text/plain": [
       "<Figure size 432x288 with 1 Axes>"
      ]
     },
     "metadata": {
      "needs_background": "light"
     },
     "output_type": "display_data"
    },
    {
     "data": {
      "text/plain": [
       "array([ 60, 207,  68,  92, 148,  54, 161, 199,   0, 151,  97, 196,  99,\n",
       "       167, 203,  90,  18, 106,  81,  49,  53,  87, 220, 142, 209, 187,\n",
       "       110,  64, 114, 130, 141, 185,  84, 181, 228,  67,  31, 173, 117,\n",
       "        55, 224, 158,  28,  44, 166, 176,  47,  13, 123, 225, 212, 107,\n",
       "         7, 164,   6, 180, 193,  10, 174,  19, 219, 214,  96, 112,   3,\n",
       "       147,  11,  74, 165, 216, 135,  65, 134, 205, 226, 188, 179, 132,\n",
       "         1, 101,  48,  63,  94, 189, 184, 113, 182, 138,  91,  89, 223,\n",
       "       150,  32,  93,  73, 170, 149,   2, 229, 163, 169, 143,   5,  34,\n",
       "       133, 201, 227,  69,  21, 152, 129, 137, 122, 140, 119, 217, 190,\n",
       "       198,  72, 102,   4,  51, 146, 104,  45,  61, 144,  86, 168, 200,\n",
       "        22,  52,  20,  57,  46,  15, 160, 121, 145,  35,  38,  76, 175,\n",
       "         8,  85, 156, 213,  24, 218, 197, 211, 127, 222, 192, 230, 118,\n",
       "       204, 124, 116,  37, 157, 210,  88,  33,  43,  58, 153, 159, 186,\n",
       "        79, 155,  12, 109,  83,  14,  56, 105, 183, 208, 139,  59, 177,\n",
       "        62,  95,  98, 111,   9, 195,  27, 126, 194,  30, 108, 202,  39,\n",
       "       215, 100, 178, 191,  82, 221,  80, 171, 131,  25,  75, 115,  78,\n",
       "       120,  29,  70,  26, 154, 136,  41, 125, 206, 172, 103, 128,  40,\n",
       "        77,  36,  42,  17,  71, 162,  66,  16,  23,  50], dtype=int64)"
      ]
     },
     "execution_count": 13,
     "metadata": {},
     "output_type": "execute_result"
    }
   ],
   "source": [
    "#进行预测\n",
    "import matplotlib.pyplot as plt\n",
    "pred = X_trained @ theta_trained.T\n",
    "final_preds = pred[:, -1] + Y.mean()\n",
    "idx=np.argsort(final_preds)[::-1]\n",
    "job_num=[]\n",
    "score=[]\n",
    "for i in range(10):\n",
    "    print('Predicting rating %0.1f for job number %s.' %(final_preds[idx[i]],idx[i]))\n",
    "    job_num=np.append(job_num,'%d' %idx[i])\n",
    "    score=np.append(score,final_preds[idx[i]])\n",
    "x_data=job_num\n",
    "y_data=score\n",
    "for i in range(0,10):\n",
    "    plt.bar(x_data[i], y_data[i],color='lightsteelblue')\n",
    "    plt.text(x_data[i], y_data[i],'%0.1f'%y_data[i])\n",
    "\n",
    "# 正确显示中文和负号\n",
    "plt.rcParams[\"font.sans-serif\"] = [\"SimHei\"]\n",
    "plt.rcParams[\"axes.unicode_minus\"] = False\n",
    "plt.title(\"特征数为15的工作评分\")\n",
    "plt.xlabel(\"工作编号\")\n",
    "plt.ylabel(\"分数\")\n",
    "# 显示\n",
    "plt.show()\n",
    "idx"
   ]
  }
 ],
 "metadata": {
  "kernelspec": {
   "display_name": "Python 3 (ipykernel)",
   "language": "python",
   "name": "python3"
  },
  "language_info": {
   "codemirror_mode": {
    "name": "ipython",
    "version": 3
   },
   "file_extension": ".py",
   "mimetype": "text/x-python",
   "name": "python",
   "nbconvert_exporter": "python",
   "pygments_lexer": "ipython3",
   "version": "3.9.7"
  }
 },
 "nbformat": 4,
 "nbformat_minor": 5
}
