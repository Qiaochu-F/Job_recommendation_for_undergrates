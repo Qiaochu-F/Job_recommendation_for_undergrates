{
 "cells": [
  {
   "cell_type": "code",
   "execution_count": 1,
   "id": "1d7e78a0",
   "metadata": {},
   "outputs": [
    {
     "data": {
      "text/plain": [
       "     fun: 7404.784212381482\n",
       "     jac: array([ 2.26253149e-06, -7.62566114e-07, -1.21003948e-06, ...,\n",
       "       -1.62483134e-06,  5.73972679e-07,  6.05418431e-07])\n",
       " message: 'Converged (|f_n-f_(n-1)| ~= 0)'\n",
       "    nfev: 2575\n",
       "     nit: 107\n",
       "  status: 1\n",
       " success: True\n",
       "       x: array([-0.72982203, -0.27613193, -0.06151604, ..., -0.61565492,\n",
       "        0.1719886 , -0.95947763])"
      ]
     },
     "execution_count": 1,
     "metadata": {},
     "output_type": "execute_result"
    }
   ],
   "source": [
    "import numpy as np\n",
    "import pandas as pd\n",
    "import xlrd #读取excel的库\n",
    "Y=[] #先声明一个空list\n",
    "data=pd.read_csv(r\"C:\\Users\\93631\\Desktop\\2020Himcm\\mat\\Y2.csv\",header=None)\n",
    " #必须添加header=None，否则默认把第一行数据处理成列名导致缺失\n",
    "Y=data.values.tolist()\n",
    "Y=np.array(Y)\n",
    "Y=np.delete(Y,0,axis=0)\n",
    "data=pd.read_csv(r\"C:\\Users\\93631\\Desktop\\2020Himcm\\mat\\R2.csv\",header=None)\n",
    " #必须添加header=None，否则默认把第一行数据处理成列名导致缺失\n",
    "R=data.values.tolist()\n",
    "R=np.array(R)\n",
    "R=np.delete(R,0,axis=0)\n",
    "#先导入输入过评价的表格Y，R\n",
    "#特征个数15\n",
    "n_features = 15\n",
    "def serialize(X, theta):\n",
    "    return np.concatenate((X.ravel(), theta.ravel()))\n",
    "\n",
    "def deserialize(params, n_job, n_user, n_features):\n",
    "    return params[:n_job * n_features].reshape(n_job, n_features), \\\n",
    "           params[n_job * n_features:].reshape(n_user, n_features)\n",
    "#代价函数\n",
    "def cost(params, Y, R, n_features):\n",
    "    n_job, n_user = Y.shape\n",
    "    X, theta = deserialize(params, n_job, n_user, n_features)\n",
    "    #注意这里只需要计算R=1的\n",
    "    inner = np.multiply(X @ theta.T - Y, R)\n",
    "    return np.power(inner, 2).sum() / 2\n",
    "#梯度\n",
    "def gradient(params, Y, R, n_features):\n",
    "    n_job, n_user = Y.shape\n",
    "    X, theta = deserialize(params, n_job, n_user, n_features)\n",
    "    inner = np.multiply(X @ theta.T - Y, R)  # (231，326)\n",
    "    X_grad = inner @ theta  #（231， 7）\n",
    "    theta_grad = inner.T @ X  #（326，7）\n",
    "    \n",
    "    return serialize(X_grad, theta_grad)\n",
    "#代价函数正规项\n",
    "def regularized_cost(params, Y, R, n_features, lam=1):\n",
    "    reg = np.power(params, 2).sum() * (lam / 2)\n",
    "    return cost(params, Y, R, n_features) + reg\n",
    "#梯度函数正规项\n",
    "def regularized_gradient(params, Y, R, n_features, lam=1):\n",
    "    grad = gradient(params, Y, R, n_features)\n",
    "    reg = lam * params\n",
    "    \n",
    "    return grad + reg\n",
    "\n",
    "#初始化x和theta为较小随机数，同时进行标准化\n",
    "n_features = 15\n",
    "n_job, n_user = Y.shape\n",
    "lr = 8 #学习率\n",
    "X = np.random.standard_normal((n_job, n_features))\n",
    "theta = np.random.standard_normal((n_user, n_features))\n",
    "#归一化\n",
    "Y_norm = Y - Y.mean()\n",
    "#模型训练\n",
    "import scipy.optimize as opt\n",
    "params = np.concatenate((np.ravel(X), np.ravel(theta)))\n",
    "res = opt.minimize(fun=regularized_cost,\n",
    "                   x0=params,\n",
    "                   args=(Y_norm, R, n_features, lr),\n",
    "                   method='TNC',\n",
    "                   jac=regularized_gradient)\n",
    "res"
   ]
  },
  {
   "cell_type": "code",
   "execution_count": 2,
   "id": "35954e21",
   "metadata": {},
   "outputs": [
    {
     "data": {
      "text/plain": [
       "     fun: 6154.357775126497\n",
       "     jac: array([ 3.00230761e-07, -3.76011251e-07,  3.00544124e-07, ...,\n",
       "        2.29599914e-06,  2.20599794e-08,  6.56939446e-07])\n",
       " message: 'Converged (|f_n-f_(n-1)| ~= 0)'\n",
       "    nfev: 2407\n",
       "     nit: 97\n",
       "  status: 1\n",
       " success: True\n",
       "       x: array([-0.53984157,  0.50226647,  0.07721585, ..., -0.6591295 ,\n",
       "        0.15759273, -0.49123188])"
      ]
     },
     "execution_count": 2,
     "metadata": {},
     "output_type": "execute_result"
    }
   ],
   "source": [
    "lr = 6 #学习率\n",
    "X = np.random.standard_normal((n_job, n_features))\n",
    "theta = np.random.standard_normal((n_user, n_features))\n",
    "#归一化\n",
    "Y_norm = Y - Y.mean()\n",
    "#模型训练\n",
    "import scipy.optimize as opt\n",
    "params = np.concatenate((np.ravel(X), np.ravel(theta)))\n",
    "res = opt.minimize(fun=regularized_cost,\n",
    "                   x0=params,\n",
    "                   args=(Y_norm, R, n_features, lr),\n",
    "                   method='TNC',\n",
    "                   jac=regularized_gradient)\n",
    "res"
   ]
  },
  {
   "cell_type": "code",
   "execution_count": 27,
   "id": "9b09fe49",
   "metadata": {},
   "outputs": [
    {
     "data": {
      "text/plain": [
       "     fun: 4558.222425614666\n",
       "     jac: array([-5.25072033e-07, -5.15447065e-06,  2.96985619e-07, ...,\n",
       "        2.57812996e-06, -5.33044874e-06, -8.01305153e-07])\n",
       " message: 'Converged (|f_n-f_(n-1)| ~= 0)'\n",
       "    nfev: 1888\n",
       "     nit: 81\n",
       "  status: 1\n",
       " success: True\n",
       "       x: array([ 0.03314792,  0.47440648, -0.22543633, ...,  1.38296749,\n",
       "       -0.42584134, -1.25685623])"
      ]
     },
     "execution_count": 27,
     "metadata": {},
     "output_type": "execute_result"
    }
   ],
   "source": [
    "lr = 4 #学习率\n",
    "X = np.random.standard_normal((n_job, n_features))\n",
    "theta = np.random.standard_normal((n_user, n_features))\n",
    "#归一化\n",
    "Y_norm = Y - Y.mean()\n",
    "#模型训练\n",
    "import scipy.optimize as opt\n",
    "params = np.concatenate((np.ravel(X), np.ravel(theta)))\n",
    "res = opt.minimize(fun=regularized_cost,\n",
    "                   x0=params,\n",
    "                   args=(Y_norm, R, n_features, lr),\n",
    "                   method='TNC',\n",
    "                   jac=regularized_gradient)\n",
    "res"
   ]
  },
  {
   "cell_type": "code",
   "execution_count": 28,
   "id": "9493e7e5",
   "metadata": {},
   "outputs": [
    {
     "data": {
      "text/plain": [
       "     fun: 2542.0899915013447\n",
       "     jac: array([-4.74864023e-06,  3.62674096e-06, -7.35970600e-06, ...,\n",
       "       -1.78035055e-06,  8.40980709e-07, -1.11618624e-07])\n",
       " message: 'Converged (|f_n-f_(n-1)| ~= 0)'\n",
       "    nfev: 2410\n",
       "     nit: 110\n",
       "  status: 1\n",
       " success: True\n",
       "       x: array([-0.25910425, -0.50256793,  0.55516055, ..., -0.80777402,\n",
       "       -0.41918794, -0.22434331])"
      ]
     },
     "execution_count": 28,
     "metadata": {},
     "output_type": "execute_result"
    }
   ],
   "source": [
    "lr = 2 #学习率\n",
    "X = np.random.standard_normal((n_job, n_features))\n",
    "theta = np.random.standard_normal((n_user, n_features))\n",
    "#归一化\n",
    "Y_norm = Y - Y.mean()\n",
    "#模型训练\n",
    "import scipy.optimize as opt\n",
    "params = np.concatenate((np.ravel(X), np.ravel(theta)))\n",
    "res = opt.minimize(fun=regularized_cost,\n",
    "                   x0=params,\n",
    "                   args=(Y_norm, R, n_features, lr),\n",
    "                   method='TNC',\n",
    "                   jac=regularized_gradient)\n",
    "res"
   ]
  },
  {
   "cell_type": "code",
   "execution_count": 29,
   "id": "c25f5983",
   "metadata": {},
   "outputs": [
    {
     "data": {
      "text/plain": [
       "     fun: 1345.6550303070642\n",
       "     jac: array([ 2.85873271e-06,  3.93699183e-06, -1.91413454e-05, ...,\n",
       "       -2.85384197e-06, -6.66606328e-06, -5.32247375e-06])\n",
       " message: 'Converged (|f_n-f_(n-1)| ~= 0)'\n",
       "    nfev: 2185\n",
       "     nit: 91\n",
       "  status: 1\n",
       " success: True\n",
       "       x: array([ 0.35526947, -0.40127024,  0.95611557, ...,  0.57923347,\n",
       "        1.16392558,  0.77788154])"
      ]
     },
     "execution_count": 29,
     "metadata": {},
     "output_type": "execute_result"
    }
   ],
   "source": [
    "lr = 1 #学习率\n",
    "X = np.random.standard_normal((n_job, n_features))\n",
    "theta = np.random.standard_normal((n_user, n_features))\n",
    "#归一化\n",
    "Y_norm = Y - Y.mean()\n",
    "#模型训练\n",
    "import scipy.optimize as opt\n",
    "params = np.concatenate((np.ravel(X), np.ravel(theta)))\n",
    "res = opt.minimize(fun=regularized_cost,\n",
    "                   x0=params,\n",
    "                   args=(Y_norm, R, n_features, lr),\n",
    "                   method='TNC',\n",
    "                   jac=regularized_gradient)\n",
    "res"
   ]
  },
  {
   "cell_type": "code",
   "execution_count": 30,
   "id": "f91c9f19",
   "metadata": {},
   "outputs": [
    {
     "data": {
      "text/plain": [
       "     fun: 1218.3099926447796\n",
       "     jac: array([-3.92986841e-06,  1.26140182e-06,  1.35465669e-06, ...,\n",
       "        2.99844920e-06,  1.94347150e-06,  1.58642566e-06])\n",
       " message: 'Converged (|f_n-f_(n-1)| ~= 0)'\n",
       "    nfev: 2383\n",
       "     nit: 93\n",
       "  status: 1\n",
       " success: True\n",
       "       x: array([-0.89186647,  0.50795037,  0.12225456, ...,  1.1593963 ,\n",
       "        0.46178529, -0.28055429])"
      ]
     },
     "execution_count": 30,
     "metadata": {},
     "output_type": "execute_result"
    }
   ],
   "source": [
    "lr = 0.9 #学习率\n",
    "X = np.random.standard_normal((n_job, n_features))\n",
    "theta = np.random.standard_normal((n_user, n_features))\n",
    "#归一化\n",
    "Y_norm = Y - Y.mean()\n",
    "#模型训练\n",
    "import scipy.optimize as opt\n",
    "params = np.concatenate((np.ravel(X), np.ravel(theta)))\n",
    "res = opt.minimize(fun=regularized_cost,\n",
    "                   x0=params,\n",
    "                   args=(Y_norm, R, n_features, lr),\n",
    "                   method='TNC',\n",
    "                   jac=regularized_gradient)\n",
    "res"
   ]
  },
  {
   "cell_type": "code",
   "execution_count": 31,
   "id": "800722c1",
   "metadata": {},
   "outputs": [
    {
     "data": {
      "text/plain": [
       "     fun: 1089.6704776795925\n",
       "     jac: array([-9.77850550e-06,  1.10259309e-05, -1.22756700e-05, ...,\n",
       "       -5.99157406e-06, -8.29955593e-06, -3.73448477e-06])\n",
       " message: 'Converged (|f_n-f_(n-1)| ~= 0)'\n",
       "    nfev: 2787\n",
       "     nit: 120\n",
       "  status: 1\n",
       " success: True\n",
       "       x: array([ 0.73217318, -0.2556012 ,  1.45853218, ..., -0.70154691,\n",
       "        1.33296546,  0.27700463])"
      ]
     },
     "execution_count": 31,
     "metadata": {},
     "output_type": "execute_result"
    }
   ],
   "source": [
    "lr = 0.8 #学习率\n",
    "X = np.random.standard_normal((n_job, n_features))\n",
    "theta = np.random.standard_normal((n_user, n_features))\n",
    "#归一化\n",
    "Y_norm = Y - Y.mean()\n",
    "#模型训练\n",
    "import scipy.optimize as opt\n",
    "params = np.concatenate((np.ravel(X), np.ravel(theta)))\n",
    "res = opt.minimize(fun=regularized_cost,\n",
    "                   x0=params,\n",
    "                   args=(Y_norm, R, n_features, lr),\n",
    "                   method='TNC',\n",
    "                   jac=regularized_gradient)\n",
    "res"
   ]
  },
  {
   "cell_type": "code",
   "execution_count": 32,
   "id": "b95e97d2",
   "metadata": {},
   "outputs": [
    {
     "data": {
      "text/plain": [
       "     fun: 959.3615873138828\n",
       "     jac: array([-7.00060598e-06, -6.82602231e-06,  5.17140208e-06, ...,\n",
       "       -2.46362327e-06,  3.59130968e-06,  1.35941557e-07])\n",
       " message: 'Converged (|f_n-f_(n-1)| ~= 0)'\n",
       "    nfev: 4115\n",
       "     nit: 156\n",
       "  status: 1\n",
       " success: True\n",
       "       x: array([-1.19184579,  1.21158467,  0.0648874 , ..., -0.07042137,\n",
       "        0.24508728,  1.04911286])"
      ]
     },
     "execution_count": 32,
     "metadata": {},
     "output_type": "execute_result"
    }
   ],
   "source": [
    "lr = 0.7 #学习率\n",
    "X = np.random.standard_normal((n_job, n_features))\n",
    "theta = np.random.standard_normal((n_user, n_features))\n",
    "#归一化\n",
    "Y_norm = Y - Y.mean()\n",
    "#模型训练\n",
    "import scipy.optimize as opt\n",
    "params = np.concatenate((np.ravel(X), np.ravel(theta)))\n",
    "res = opt.minimize(fun=regularized_cost,\n",
    "                   x0=params,\n",
    "                   args=(Y_norm, R, n_features, lr),\n",
    "                   method='TNC',\n",
    "                   jac=regularized_gradient)\n",
    "res"
   ]
  },
  {
   "cell_type": "code",
   "execution_count": 33,
   "id": "8d8ca8ca",
   "metadata": {},
   "outputs": [
    {
     "data": {
      "text/plain": [
       "     fun: 827.3824053166131\n",
       "     jac: array([2.07558240e-06, 2.71829163e-06, 2.02961684e-06, ...,\n",
       "       4.11216773e-06, 6.19231004e-07, 6.80141446e-06])\n",
       " message: 'Converged (|f_n-f_(n-1)| ~= 0)'\n",
       "    nfev: 3604\n",
       "     nit: 148\n",
       "  status: 1\n",
       " success: True\n",
       "       x: array([0.3783873 , 0.45747899, 0.06331228, ..., 0.83568867, 0.43946317,\n",
       "       0.92291474])"
      ]
     },
     "execution_count": 33,
     "metadata": {},
     "output_type": "execute_result"
    }
   ],
   "source": [
    "lr = 0.6 #学习率\n",
    "X = np.random.standard_normal((n_job, n_features))\n",
    "theta = np.random.standard_normal((n_user, n_features))\n",
    "#归一化\n",
    "Y_norm = Y - Y.mean()\n",
    "#模型训练\n",
    "import scipy.optimize as opt\n",
    "params = np.concatenate((np.ravel(X), np.ravel(theta)))\n",
    "res = opt.minimize(fun=regularized_cost,\n",
    "                   x0=params,\n",
    "                   args=(Y_norm, R, n_features, lr),\n",
    "                   method='TNC',\n",
    "                   jac=regularized_gradient)\n",
    "res"
   ]
  },
  {
   "cell_type": "code",
   "execution_count": 34,
   "id": "aa95c00f",
   "metadata": {},
   "outputs": [
    {
     "data": {
      "text/plain": [
       "     fun: 694.2024049356322\n",
       "     jac: array([ 4.79066019e-07,  2.51828976e-07,  3.71020493e-06, ...,\n",
       "       -2.93845040e-07, -8.62686899e-07, -6.49189025e-06])\n",
       " message: 'Converged (|f_n-f_(n-1)| ~= 0)'\n",
       "    nfev: 1970\n",
       "     nit: 82\n",
       "  status: 1\n",
       " success: True\n",
       "       x: array([-0.55261883,  0.15402943, -0.0220766 , ...,  0.81338029,\n",
       "       -0.13925528,  1.32878885])"
      ]
     },
     "execution_count": 34,
     "metadata": {},
     "output_type": "execute_result"
    }
   ],
   "source": [
    "lr = 0.5 #学习率\n",
    "X = np.random.standard_normal((n_job, n_features))\n",
    "theta = np.random.standard_normal((n_user, n_features))\n",
    "#归一化\n",
    "Y_norm = Y - Y.mean()\n",
    "#模型训练\n",
    "import scipy.optimize as opt\n",
    "params = np.concatenate((np.ravel(X), np.ravel(theta)))\n",
    "res = opt.minimize(fun=regularized_cost,\n",
    "                   x0=params,\n",
    "                   args=(Y_norm, R, n_features, lr),\n",
    "                   method='TNC',\n",
    "                   jac=regularized_gradient)\n",
    "res"
   ]
  },
  {
   "cell_type": "code",
   "execution_count": 35,
   "id": "73c867a2",
   "metadata": {},
   "outputs": [
    {
     "data": {
      "text/plain": [
       "     fun: 559.2563631656035\n",
       "     jac: array([-4.46557316e-06, -4.15911179e-06,  3.34896810e-06, ...,\n",
       "       -7.56636775e-07,  4.60501071e-07, -6.09567630e-07])\n",
       " message: 'Converged (|f_n-f_(n-1)| ~= 0)'\n",
       "    nfev: 2787\n",
       "     nit: 121\n",
       "  status: 1\n",
       " success: True\n",
       "       x: array([-1.49847207,  0.53419209, -0.05387062, ...,  0.23720441,\n",
       "        1.23462122, -0.16612891])"
      ]
     },
     "execution_count": 35,
     "metadata": {},
     "output_type": "execute_result"
    }
   ],
   "source": [
    "lr = 0.4 #学习率\n",
    "X = np.random.standard_normal((n_job, n_features))\n",
    "theta = np.random.standard_normal((n_user, n_features))\n",
    "#归一化\n",
    "Y_norm = Y - Y.mean()\n",
    "#模型训练\n",
    "import scipy.optimize as opt\n",
    "params = np.concatenate((np.ravel(X), np.ravel(theta)))\n",
    "res = opt.minimize(fun=regularized_cost,\n",
    "                   x0=params,\n",
    "                   args=(Y_norm, R, n_features, lr),\n",
    "                   method='TNC',\n",
    "                   jac=regularized_gradient)\n",
    "res"
   ]
  },
  {
   "cell_type": "code",
   "execution_count": 36,
   "id": "137320a9",
   "metadata": {},
   "outputs": [
    {
     "data": {
      "text/plain": [
       "     fun: 144.6516961614346\n",
       "     jac: array([ 3.63378490e-06,  7.44622584e-08, -2.56622845e-06, ...,\n",
       "       -4.19948025e-06,  7.30358725e-07, -4.91490391e-06])\n",
       " message: 'Converged (|f_n-f_(n-1)| ~= 0)'\n",
       "    nfev: 2775\n",
       "     nit: 124\n",
       "  status: 1\n",
       " success: True\n",
       "       x: array([ 0.47722615, -0.83902534, -0.40437505, ...,  1.15197739,\n",
       "        0.33235503,  0.75430224])"
      ]
     },
     "execution_count": 36,
     "metadata": {},
     "output_type": "execute_result"
    }
   ],
   "source": [
    "lr = 0.1 #学习率\n",
    "X = np.random.standard_normal((n_job, n_features))\n",
    "theta = np.random.standard_normal((n_user, n_features))\n",
    "#归一化\n",
    "Y_norm = Y - Y.mean()\n",
    "#模型训练\n",
    "import scipy.optimize as opt\n",
    "params = np.concatenate((np.ravel(X), np.ravel(theta)))\n",
    "res = opt.minimize(fun=regularized_cost,\n",
    "                   x0=params,\n",
    "                   args=(Y_norm, R, n_features, lr),\n",
    "                   method='TNC',\n",
    "                   jac=regularized_gradient)\n",
    "res"
   ]
  },
  {
   "cell_type": "code",
   "execution_count": 41,
   "id": "d7b66138",
   "metadata": {},
   "outputs": [],
   "source": [
    "f=[]\n",
    "import time\n",
    "ot=[]\n",
    "for lr in range(1,11,1):\n",
    "    lr_t=lr/100;\n",
    "    X = np.random.standard_normal((n_job, n_features))\n",
    "    theta = np.random.standard_normal((n_user, n_features))\n",
    "    Y_norm = Y - Y.mean()\n",
    "    params = np.concatenate((np.ravel(X), np.ravel(theta)))\n",
    "    \n",
    "    start = time.perf_counter()\n",
    "    res = opt.minimize(fun=regularized_cost,\n",
    "                   x0=params,\n",
    "                   args=(Y_norm, R, n_features, lr_t),\n",
    "                   method='TNC',\n",
    "                   jac=regularized_gradient)\n",
    "    end = time.perf_counter()\n",
    "    tt=end-start\n",
    "    f=np.append(f,res.fun)\n",
    "    ot=np.append(ot,tt)"
   ]
  },
  {
   "cell_type": "code",
   "execution_count": 43,
   "id": "5199c0f9",
   "metadata": {},
   "outputs": [
    {
     "data": {
      "text/plain": [
       "array([ 16.85920658,  31.26358496,  45.55172833,  59.70802199,\n",
       "        73.94246232,  88.1303356 , 102.34189503, 116.51381939,\n",
       "       130.55334036, 144.67627321])"
      ]
     },
     "execution_count": 43,
     "metadata": {},
     "output_type": "execute_result"
    }
   ],
   "source": [
    "f"
   ]
  },
  {
   "cell_type": "code",
   "execution_count": 44,
   "id": "98d42b4c",
   "metadata": {},
   "outputs": [
    {
     "data": {
      "text/plain": [
       "array([6.7684806, 8.1257633, 7.9965504, 6.7265483, 6.4380625, 5.4990389,\n",
       "       5.3256531, 6.1833093, 6.2062633, 5.11249  ])"
      ]
     },
     "execution_count": 44,
     "metadata": {},
     "output_type": "execute_result"
    }
   ],
   "source": [
    "ot"
   ]
  },
  {
   "cell_type": "code",
   "execution_count": 45,
   "id": "c2efde01",
   "metadata": {},
   "outputs": [
    {
     "data": {
      "text/plain": [
       "     fun: 422.68352709624094\n",
       "     jac: array([-4.57411616e-07,  9.68624536e-06, -8.37105863e-06, ...,\n",
       "       -5.58521720e-07,  6.75210634e-07,  5.89713460e-07])\n",
       " message: 'Converged (|f_n-f_(n-1)| ~= 0)'\n",
       "    nfev: 2534\n",
       "     nit: 110\n",
       "  status: 1\n",
       " success: True\n",
       "       x: array([-0.33279205,  1.39595496, -0.14958755, ...,  0.49032534,\n",
       "       -0.53108497, -0.18341608])"
      ]
     },
     "execution_count": 45,
     "metadata": {},
     "output_type": "execute_result"
    }
   ],
   "source": [
    "lr = 0.3 #学习率\n",
    "X = np.random.standard_normal((n_job, n_features))\n",
    "theta = np.random.standard_normal((n_user, n_features))\n",
    "#归一化\n",
    "Y_norm = Y - Y.mean()\n",
    "#模型训练\n",
    "import scipy.optimize as opt\n",
    "params = np.concatenate((np.ravel(X), np.ravel(theta)))\n",
    "res = opt.minimize(fun=regularized_cost,\n",
    "                   x0=params,\n",
    "                   args=(Y_norm, R, n_features, lr),\n",
    "                   method='TNC',\n",
    "                   jac=regularized_gradient)\n",
    "res"
   ]
  },
  {
   "cell_type": "code",
   "execution_count": 46,
   "id": "85d34279",
   "metadata": {},
   "outputs": [
    {
     "data": {
      "text/plain": [
       "     fun: 284.572633038101\n",
       "     jac: array([-1.23566928e-06,  6.73429711e-06, -3.18935087e-06, ...,\n",
       "        4.33118642e-06, -1.98912471e-06, -1.04794835e-06])\n",
       " message: 'Converged (|f_n-f_(n-1)| ~= 0)'\n",
       "    nfev: 1598\n",
       "     nit: 75\n",
       "  status: 1\n",
       " success: True\n",
       "       x: array([-0.3839667 , -0.61380219,  0.58318116, ..., -0.33983669,\n",
       "        0.76400394, -0.16666091])"
      ]
     },
     "execution_count": 46,
     "metadata": {},
     "output_type": "execute_result"
    }
   ],
   "source": [
    "lr = 0.2 #学习率\n",
    "X = np.random.standard_normal((n_job, n_features))\n",
    "theta = np.random.standard_normal((n_user, n_features))\n",
    "#归一化\n",
    "Y_norm = Y - Y.mean()\n",
    "#模型训练\n",
    "import scipy.optimize as opt\n",
    "params = np.concatenate((np.ravel(X), np.ravel(theta)))\n",
    "res = opt.minimize(fun=regularized_cost,\n",
    "                   x0=params,\n",
    "                   args=(Y_norm, R, n_features, lr),\n",
    "                   method='TNC',\n",
    "                   jac=regularized_gradient)\n",
    "res"
   ]
  },
  {
   "cell_type": "code",
   "execution_count": 48,
   "id": "34b517e6",
   "metadata": {},
   "outputs": [
    {
     "name": "stdout",
     "output_type": "stream",
     "text": [
      "[[1.00000000e+01 8.00000000e+00 6.00000000e+00 4.00000000e+00\n",
      "  2.00000000e+00 1.00000000e+00 9.00000000e-01 8.00000000e-01\n",
      "  7.00000000e-01 6.00000000e-01 5.00000000e-01 4.00000000e-01\n",
      "  3.00000000e-01 2.00000000e-01 1.00000000e-01 9.00000000e-02\n",
      "  8.00000000e-02 7.00000000e-02 6.00000000e-02 5.00000000e-02\n",
      "  4.00000000e-02 3.00000000e-02 2.00000000e-02 1.00000000e-02]\n",
      " [8.37310620e+03 7.40478421e+03 6.15435778e+03 4.55822243e+03\n",
      "  2.54208999e+03 1.34565503e+03 1.21830999e+03 1.08967048e+03\n",
      "  9.59361587e+02 8.27382405e+02 6.94202405e+02 5.59256363e+02\n",
      "  4.22683527e+02 2.84572633e+02 1.44676273e+02 1.30553340e+02\n",
      "  1.16513819e+02 1.02341895e+02 8.81303356e+01 7.39424623e+01\n",
      "  5.97080220e+01 4.55517283e+01 3.12635850e+01 1.68592066e+01]]\n"
     ]
    }
   ],
   "source": [
    "import numpy as np\n",
    "import xlrd #读取excel的库\n",
    "M=[] #先声明一个空list\n",
    "data = xlrd.open_workbook(r'C:\\Users\\93631\\Desktop\\2020Himcm\\学习率和损失函数.xls') #读取文件\n",
    "table = data.sheet_by_index(0) #按索引获取工作表，0就是工作表1\n",
    "for i in range(table.nrows): #table.nrows表示总行数\n",
    "    line=table.row_values(i) #读取每行数据，保存在line里面，line是list\n",
    "    M.append(line) #将line加入到resArray中，resArray是二维list\n",
    "M=np.array(M) #将resArray从二维list变成数组\n",
    "print(M)"
   ]
  },
  {
   "cell_type": "code",
   "execution_count": 51,
   "id": "df5b4fdc",
   "metadata": {},
   "outputs": [
    {
     "data": {
      "text/plain": [
       "Text(0, 0.5, '损失函数值')"
      ]
     },
     "execution_count": 51,
     "metadata": {},
     "output_type": "execute_result"
    },
    {
     "data": {
      "image/png": "[encoded data removed]",
      "text/plain": [
       "<Figure size 432x288 with 1 Axes>"
      ]
     },
     "metadata": {
      "needs_background": "light"
     },
     "output_type": "display_data"
    }
   ],
   "source": [
    "xdata=M[0]\n",
    "ydata=M[1]\n",
    "import matplotlib\n",
    "import numpy as np\n",
    "from  matplotlib import pyplot as plt\n",
    "%matplotlib inline\n",
    "#通用设置\n",
    "matplotlib.rc('axes', facecolor = 'white')\n",
    "matplotlib.rc('figure', figsize = (6, 4))\n",
    "matplotlib.rc('axes', grid = False)\n",
    "#数据及线属性\n",
    "plt.plot(xdata, ydata,'*b')\n",
    "# 正确显示中文和负号\n",
    "plt.rcParams[\"font.sans-serif\"] = [\"SimHei\"]\n",
    "plt.rcParams[\"axes.unicode_minus\"] = False\n",
    "#标题设置\n",
    "plt.title('不同学习率下的损失函数')\n",
    "plt.xlabel('学习率')\n",
    "plt.ylabel('损失函数值')"
   ]
  },
  {
   "cell_type": "code",
   "execution_count": 55,
   "id": "c0132d66",
   "metadata": {},
   "outputs": [
    {
     "data": {
      "text/plain": [
       "Text(0, 0.5, '损失函数值')"
      ]
     },
     "execution_count": 55,
     "metadata": {},
     "output_type": "execute_result"
    },
    {
     "data": {
      "image/png": "[encoded data removed]",
      "text/plain": [
       "<Figure size 432x288 with 1 Axes>"
      ]
     },
     "metadata": {
      "needs_background": "light"
     },
     "output_type": "display_data"
    }
   ],
   "source": [
    "s=[0.01,0.02,0.03,0.04,0.05,0.06,0.07,0.08,0.09,0.1]\n",
    "plt.plot(s,f,'*b')\n",
    "# 正确显示中文和负号\n",
    "plt.rcParams[\"font.sans-serif\"] = [\"SimHei\"]\n",
    "plt.rcParams[\"axes.unicode_minus\"] = False\n",
    "#标题设置\n",
    "plt.title('学习率为0.01至0.1时的损失函数')\n",
    "plt.xlabel('学习率')\n",
    "plt.ylabel('损失函数值')"
   ]
  }
 ],
 "metadata": {
  "kernelspec": {
   "display_name": "Python 3 (ipykernel)",
   "language": "python",
   "name": "python3"
  },
  "language_info": {
   "codemirror_mode": {
    "name": "ipython",
    "version": 3
   },
   "file_extension": ".py",
   "mimetype": "text/x-python",
   "name": "python",
   "nbconvert_exporter": "python",
   "pygments_lexer": "ipython3",
   "version": "3.9.7"
  }
 },
 "nbformat": 4,
 "nbformat_minor": 5
}
